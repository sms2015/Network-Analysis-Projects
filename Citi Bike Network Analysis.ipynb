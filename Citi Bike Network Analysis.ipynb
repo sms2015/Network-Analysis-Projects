{
 "cells": [
  {
   "cell_type": "markdown",
   "metadata": {},
   "source": [
    "** Citi Bike Network Analysis **\n",
    "\n",
    "This project explores the Citi Bike Network, including measures of centrality and analyzing statistical differences between user types (subscriber vs customer). "
   ]
  },
  {
   "cell_type": "markdown",
   "metadata": {},
   "source": [
    "About the dataset:\n",
    "This project will use one month of Citi Bike data from June 2016, the most recent month of data available at this time. The data set includes the following fields:\n",
    "\n",
    "    Trip Duration (seconds)\n",
    "    Start Time and Date\n",
    "    Stop Time and Date\n",
    "    Start Station Name\n",
    "    End Station Name\n",
    "    Station ID\n",
    "    Station Lat/Long\n",
    "    Bike ID\n",
    "    User Type (Customer = 24-hour pass or 7-day pass user; Subscriber = Annual Member)\n",
    "    Gender (Zero=unknown; 1=male; 2=female)\n",
    "    Year of Birth\n",
    "\n",
    "This project will focus on the Start Station and End Station as nodes, and User Type as a categorical variable.  Edges in the network will be bike trips between stations, which in this case means start station to end station, and will be focused only on which station the bike was picked up and returned, not where the bike may have been taken in between. Some trips begin and end at the same station because people may pick up a bike, run an errand and then return it to the same station.  \n",
    "\n",
    "The goal of this analysis is to determine which stations are most integral to the network based on various centrality measures.  In addition, it will look for subgraphs, triads, cliques and clusters, to analyze the subgraph structure of the citi-bike network. It will also compare these measures for customers vs subscribers vs. the network as a whole.\n",
    "\n",
    "This analysis could help in planning where more bikes might be needed or identify stations that are critical to the network but might not be obvious via eigenvector centrality.\n",
    "\n",
    "\n",
    "About Citi Bike:\n",
    "https://www.citibikenyc.com/about\n",
    "    Citi Bike is New York City’s bike share system, and the largest in the nation. Citi Bike launched in May 2013 and has become an essential part of our transportation network. \n",
    "    Citi Bike, like other bike share systems, consists of a fleet of specially designed, sturdy and durable bikes that are locked into a network of docking stations throughout the city. The bikes can be unlocked from one station and returned to any other station in the system, making them ideal for one-way trips. People use bike share to commute to work or school, run errands, get to appointments or social engagements, and more.\n",
    "    Citi Bike is available for use 24 hours/day, 7 days/week, 365 days/year, and riders have access to thousands of bikes at hundreds of stations across Manhattan, Brooklyn, Queens and Jersey City.\n",
    "    \n",
    "\n",
    "About Citi Bike Data:\n",
    "https://www.citibikenyc.com/system-data\n",
    "    Where do Citi Bikers ride? When do they ride? How far do they go? Which stations are most popular? What days of the week are most rides taken on? We've heard all of these questions and more from you, and we're happy to provide the data to help you discover the answers to these questions and more. We invite developers, engineers, statisticians, artists, academics and other interested members of the public to use the data we provide for analysis, development, visualization and whatever else moves you."
   ]
  },
  {
   "cell_type": "code",
   "execution_count": 1,
   "metadata": {},
   "outputs": [
    {
     "data": {
      "text/plain": [
       "'\\nimport csv \\n'"
      ]
     },
     "execution_count": 1,
     "metadata": {},
     "output_type": "execute_result"
    }
   ],
   "source": [
    "#Open the data file using the CSV library\n",
    "#used for generating the graph from the original csv data\n",
    "'''\n",
    "import csv \n",
    "'''"
   ]
  },
  {
   "cell_type": "code",
   "execution_count": 2,
   "metadata": {},
   "outputs": [
    {
     "data": {
      "text/plain": [
       "\"\\nwith open('201606-citibike-tripdata.csv', 'rb') as f:\\n    reader = csv.reader(f)\\n    header = reader.next()\\n\""
      ]
     },
     "execution_count": 2,
     "metadata": {},
     "output_type": "execute_result"
    }
   ],
   "source": [
    "#Get the headers\n",
    "#used for generating the graph from the original csv data\n",
    "'''\n",
    "with open('201606-citibike-tripdata.csv', 'rb') as f:\n",
    "    reader = csv.reader(f)\n",
    "    header = reader.next()\n",
    "'''"
   ]
  },
  {
   "cell_type": "code",
   "execution_count": 3,
   "metadata": {},
   "outputs": [
    {
     "data": {
      "text/plain": [
       "'\\nheader\\n'"
      ]
     },
     "execution_count": 3,
     "metadata": {},
     "output_type": "execute_result"
    }
   ],
   "source": [
    "#view headers\n",
    "#used for generating the graph from the original data\n",
    "\n",
    "'''\n",
    "header\n",
    "'''\n",
    "\n",
    "#start station name is 5th in the list\n",
    "#end station name is 9th in the list\n",
    "#usertype is 13th in the list"
   ]
  },
  {
   "cell_type": "code",
   "execution_count": 4,
   "metadata": {},
   "outputs": [
    {
     "data": {
      "text/plain": [
       "'\\n[header[4],header[8],header[12]]\\n'"
      ]
     },
     "execution_count": 4,
     "metadata": {},
     "output_type": "execute_result"
    }
   ],
   "source": [
    "#used for generating the graph from the original csv\n",
    "'''\n",
    "[header[4],header[8],header[12]]\n",
    "'''"
   ]
  },
  {
   "cell_type": "code",
   "execution_count": 5,
   "metadata": {
    "collapsed": true
   },
   "outputs": [],
   "source": [
    "import networkx as net"
   ]
  },
  {
   "cell_type": "code",
   "execution_count": 6,
   "metadata": {},
   "outputs": [
    {
     "data": {
      "text/plain": [
       "'\\ng=net.Graph()\\n\\nwith open(\\'201606-citibike-tripdata.csv\\', \\'rb\\') as f:\\n    reader = csv.reader(f)\\n    reader.next()  #skip header row\\n    for line in reader:\\n        node1 = line[4]\\n        #Check for missing zipcodes - change missing zipcodes to \"Not Reported\"\\n        node2 = line[8]\\n        g.add_edge(node1,node2,userType=line[12])\\n'"
      ]
     },
     "execution_count": 6,
     "metadata": {},
     "output_type": "execute_result"
    }
   ],
   "source": [
    "#set up a networkx graph, and add the nodes and categorical variable from the file\n",
    "\n",
    "#Code used to build the initial graph\n",
    "'''\n",
    "g=net.Graph()\n",
    "\n",
    "with open('201606-citibike-tripdata.csv', 'rb') as f:\n",
    "    reader = csv.reader(f)\n",
    "    reader.next()  #skip header row\n",
    "    for line in reader:\n",
    "        node1 = line[4]\n",
    "        #Check for missing zipcodes - change missing zipcodes to \"Not Reported\"\n",
    "        node2 = line[8]\n",
    "        g.add_edge(node1,node2,userType=line[12])\n",
    "'''"
   ]
  },
  {
   "cell_type": "code",
   "execution_count": 7,
   "metadata": {
    "collapsed": true
   },
   "outputs": [],
   "source": [
    "import matplotlib.pyplot as plot"
   ]
  },
  {
   "cell_type": "code",
   "execution_count": 8,
   "metadata": {
    "collapsed": true
   },
   "outputs": [],
   "source": [
    "matplotlib inline"
   ]
  },
  {
   "cell_type": "code",
   "execution_count": 9,
   "metadata": {
    "collapsed": true
   },
   "outputs": [],
   "source": [
    "#write the graph to a file so it doesn't have to be re-created every time\n",
    "#net.write_pajek(g, \"citibike.net\")\n",
    "g=net.read_pajek(\"citibike.net\")"
   ]
  },
  {
   "cell_type": "code",
   "execution_count": 10,
   "metadata": {},
   "outputs": [
    {
     "data": {
      "text/plain": [
       "489"
      ]
     },
     "execution_count": 10,
     "metadata": {},
     "output_type": "execute_result"
    }
   ],
   "source": [
    "#Number of nodes in the network\n",
    "len(g.nodes())"
   ]
  },
  {
   "cell_type": "code",
   "execution_count": 11,
   "metadata": {},
   "outputs": [
    {
     "data": {
      "text/plain": [
       "67956"
      ]
     },
     "execution_count": 11,
     "metadata": {},
     "output_type": "execute_result"
    }
   ],
   "source": [
    "#Number of edges in the network\n",
    "len(g.edges())"
   ]
  },
  {
   "cell_type": "code",
   "execution_count": 12,
   "metadata": {},
   "outputs": [
    {
     "data": {
      "text/plain": [
       "(u'Broadway & W 37 St', u'E 16 St & Irving Pl')"
      ]
     },
     "execution_count": 12,
     "metadata": {},
     "output_type": "execute_result"
    }
   ],
   "source": [
    "#test an edge\n",
    "g.edges()[100]"
   ]
  },
  {
   "cell_type": "code",
   "execution_count": 13,
   "metadata": {},
   "outputs": [
    {
     "data": {
      "text/plain": [
       "{0: {u'userType': u'Subscriber', 'weight': 1.0}}"
      ]
     },
     "execution_count": 13,
     "metadata": {},
     "output_type": "execute_result"
    }
   ],
   "source": [
    "#test for status\n",
    "g['Broadway & W 37 St']['E 25 St & 2 Ave']"
   ]
  },
  {
   "cell_type": "code",
   "execution_count": 14,
   "metadata": {
    "scrolled": true
   },
   "outputs": [
    {
     "data": {
      "image/png": "[encoded data removed]",
      "text/plain": [
       "<matplotlib.figure.Figure at 0x7dbc198>"
      ]
     },
     "metadata": {},
     "output_type": "display_data"
    }
   ],
   "source": [
    "#View the network graph\n",
    "net.draw(g)"
   ]
  },
  {
   "cell_type": "markdown",
   "metadata": {},
   "source": [
    "Degree Centrality:\n",
    "Degree is the number of connections that a node has. In this network it is the number of non-directional trip patterns that the station is part of.\n",
    "If a station has high degree centrality relative to other stations, this means that there are more trip patterns that begin and end at this station than at other stations."
   ]
  },
  {
   "cell_type": "code",
   "execution_count": 15,
   "metadata": {
    "collapsed": true
   },
   "outputs": [],
   "source": [
    "#compute the degree of every node in the network\n",
    "deg = net.degree(g)"
   ]
  },
  {
   "cell_type": "code",
   "execution_count": 16,
   "metadata": {},
   "outputs": [
    {
     "data": {
      "text/plain": [
       "1"
      ]
     },
     "execution_count": 16,
     "metadata": {},
     "output_type": "execute_result"
    }
   ],
   "source": [
    "#What is the minimum degree of any node\n",
    "min(deg.values())"
   ]
  },
  {
   "cell_type": "code",
   "execution_count": 17,
   "metadata": {},
   "outputs": [
    {
     "data": {
      "text/plain": [
       "426"
      ]
     },
     "execution_count": 17,
     "metadata": {},
     "output_type": "execute_result"
    }
   ],
   "source": [
    "#What is the maximum degree of any node\n",
    "max(deg.values())"
   ]
  },
  {
   "cell_type": "code",
   "execution_count": 18,
   "metadata": {
    "collapsed": true
   },
   "outputs": [],
   "source": [
    "#function to return a sorted degree list \n",
    "def sorted_map(map):\n",
    "    ms = sorted(map.iteritems(), key = lambda(k,v): (-v,k))\n",
    "    return ms"
   ]
  },
  {
   "cell_type": "code",
   "execution_count": 19,
   "metadata": {
    "collapsed": true
   },
   "outputs": [],
   "source": [
    "ds = sorted_map(deg)"
   ]
  },
  {
   "cell_type": "markdown",
   "metadata": {},
   "source": [
    "The stations with the highest degree centrality are:"
   ]
  },
  {
   "cell_type": "code",
   "execution_count": 20,
   "metadata": {},
   "outputs": [
    {
     "data": {
      "text/plain": [
       "[(u'Lafayette St & Jersey St', 426),\n",
       " (u'Stanton St & Chrystie St', 426),\n",
       " (u'E 17 St & Broadway', 424),\n",
       " (u'Cleveland Pl & Spring St', 422),\n",
       " (u'Mott St & Prince St', 422),\n",
       " (u'Lafayette St & E 8 St', 419),\n",
       " (u'Suffolk St & Stanton St', 417),\n",
       " (u'Allen St & Rivington St', 414),\n",
       " (u'Allen St & Stanton St', 413),\n",
       " (u'S 5 Pl & S 4 St', 413)]"
      ]
     },
     "execution_count": 20,
     "metadata": {},
     "output_type": "execute_result"
    }
   ],
   "source": [
    "#top 10 stations\n",
    "ds[0:10]"
   ]
  },
  {
   "cell_type": "markdown",
   "metadata": {},
   "source": [
    "The top stations are those that appear most often in trip patterns.\n",
    "A histogram of the degree of each station resembles a left skewed normal distribution, so there is range of popularity of stations."
   ]
  },
  {
   "cell_type": "code",
   "execution_count": 21,
   "metadata": {
    "scrolled": true
   },
   "outputs": [
    {
     "data": {
      "image/png": "[encoded data removed]",
      "text/plain": [
       "<matplotlib.figure.Figure at 0x7e02c88>"
      ]
     },
     "metadata": {},
     "output_type": "display_data"
    }
   ],
   "source": [
    "h=plot.hist(deg.values(),10)\n",
    "#display a histogram of nodes in 10 bins"
   ]
  },
  {
   "cell_type": "markdown",
   "metadata": {},
   "source": [
    "Closeness centrality:\n",
    "Connecting bike trips from one side of the network to the other.\n",
    "Closeness describes the role of the station in the trip network.\n",
    "\n",
    "In this case we aren't using the geographic distance, but rather how \"far away\" is one station from another w.r.t customer trips.\n",
    "\n",
    "A station with higher closeness is better connected to other stations based on customer trips and is an important part of the network."
   ]
  },
  {
   "cell_type": "code",
   "execution_count": 22,
   "metadata": {
    "collapsed": true
   },
   "outputs": [],
   "source": [
    "#Find the best connected stations with respect to trip patterns\n",
    "#distance/closeness: closeness centrality\n",
    "c = net.closeness_centrality(g)"
   ]
  },
  {
   "cell_type": "code",
   "execution_count": 23,
   "metadata": {
    "collapsed": true
   },
   "outputs": [],
   "source": [
    "cs = sorted_map(c)"
   ]
  },
  {
   "cell_type": "code",
   "execution_count": 24,
   "metadata": {},
   "outputs": [
    {
     "data": {
      "text/plain": [
       "[(u'Lafayette St & Jersey St', 0.8840579710144928),\n",
       " (u'Stanton St & Chrystie St', 0.8840579710144928),\n",
       " (u'E 17 St & Broadway', 0.8808664259927798),\n",
       " (u'Mott St & Prince St', 0.8776978417266187),\n",
       " (u'Cleveland Pl & Spring St', 0.8761220825852782),\n",
       " (u'Lafayette St & E 8 St', 0.8729874776386404),\n",
       " (u'Suffolk St & Stanton St', 0.8698752228163993),\n",
       " (u'Allen St & Rivington St', 0.8652482269503546),\n",
       " (u'Allen St & Stanton St', 0.863716814159292),\n",
       " (u'Broadway & E 22 St', 0.8621908127208481)]"
      ]
     },
     "execution_count": 24,
     "metadata": {},
     "output_type": "execute_result"
    }
   ],
   "source": [
    "#top 10 closeness centrality\n",
    "cs[:10]"
   ]
  },
  {
   "cell_type": "markdown",
   "metadata": {},
   "source": [
    "The list is similar to the degree centrality list, but there are some differences. The list represents the most connected stations in the network, and therefore stations that are critical for the network.\n",
    "\n",
    "The histogram resembles a somewhat left skewed normal distribution. "
   ]
  },
  {
   "cell_type": "code",
   "execution_count": 25,
   "metadata": {},
   "outputs": [
    {
     "data": {
      "image/png": "[encoded data removed]",
      "text/plain": [
       "<matplotlib.figure.Figure at 0x80a5710>"
      ]
     },
     "metadata": {},
     "output_type": "display_data"
    }
   ],
   "source": [
    "#plot the distribution\n",
    "h=plot.hist(c.values(),10)"
   ]
  },
  {
   "cell_type": "markdown",
   "metadata": {},
   "source": [
    "Betweenness centrality \n",
    "How central is the station.  Stations that have high betweeness centrality act like a hub that trips flow into and out of.\n",
    "Depending on the directional flow, these stations may be more likely to have bikes if the direction is in, or less likely if the directional flow is out."
   ]
  },
  {
   "cell_type": "code",
   "execution_count": 26,
   "metadata": {
    "collapsed": true
   },
   "outputs": [],
   "source": [
    "#Central/Hub stations\n",
    "#Betweenness centrality\n",
    "b=net.betweenness_centrality(g)"
   ]
  },
  {
   "cell_type": "code",
   "execution_count": 27,
   "metadata": {
    "collapsed": true
   },
   "outputs": [],
   "source": [
    "bs = sorted_map(b)"
   ]
  },
  {
   "cell_type": "code",
   "execution_count": 28,
   "metadata": {},
   "outputs": [
    {
     "data": {
      "text/plain": [
       "[(u'12 Ave & W 40 St', 0.0074741360055767736),\n",
       " (u'Grand St & Havemeyer St', 0.005949438357952093),\n",
       " (u'West St & Chambers St', 0.005897279171799308),\n",
       " (u'Peck Slip & Front St', 0.0054928155533733375),\n",
       " (u'West Thames St', 0.00501915407997822),\n",
       " (u'Clinton St & Joralemon St', 0.004974372382411196),\n",
       " (u'Central Park West & W 72 St', 0.0044651996542609115),\n",
       " (u'Forsyth St & Broome St', 0.0039492266018541),\n",
       " (u'S 5 Pl & S 4 St', 0.003244861287516204),\n",
       " (u'York St & Jay St', 0.0028901359053334487)]"
      ]
     },
     "execution_count": 28,
     "metadata": {},
     "output_type": "execute_result"
    }
   ],
   "source": [
    "#top 10 stations for Betweenness Centrality\n",
    "bs[:10]"
   ]
  },
  {
   "cell_type": "markdown",
   "metadata": {},
   "source": [
    "This list is very different from the degree and closeness centrality list above. Betweenness is very low across the board.  Since this is a bike network and not a transit network it's not surprising that there is no real hub as people don't transfer between bike stations, they take the bike go where they want and drop the bike off at another station.\n",
    "\n",
    "The following histogram, shows that most stations have betweenness centrality of 0, while the highest betweeness centrality is still very low."
   ]
  },
  {
   "cell_type": "code",
   "execution_count": 29,
   "metadata": {},
   "outputs": [
    {
     "data": {
      "image/png": "[encoded data removed]",
      "text/plain": [
       "<matplotlib.figure.Figure at 0x85dc390>"
      ]
     },
     "metadata": {},
     "output_type": "display_data"
    }
   ],
   "source": [
    "#plot the distribution\n",
    "h=plot.hist(b.values(),10)"
   ]
  },
  {
   "cell_type": "code",
   "execution_count": 30,
   "metadata": {
    "collapsed": true
   },
   "outputs": [],
   "source": [
    "#Eigenvector Centrality\n",
    "#finding the grey cardinals\n",
    "#have to change graph format to use eigenvector function\n",
    "e = net.Graph(g)"
   ]
  },
  {
   "cell_type": "code",
   "execution_count": 31,
   "metadata": {
    "collapsed": true
   },
   "outputs": [],
   "source": [
    "eig = net.eigenvector_centrality(e)"
   ]
  },
  {
   "cell_type": "code",
   "execution_count": 32,
   "metadata": {
    "collapsed": true
   },
   "outputs": [],
   "source": [
    "eigs = sorted_map(eig)"
   ]
  },
  {
   "cell_type": "code",
   "execution_count": 33,
   "metadata": {},
   "outputs": [
    {
     "data": {
      "text/plain": [
       "[(u'Lafayette St & Jersey St', 0.06329390917430093),\n",
       " (u'E 17 St & Broadway', 0.06320786978462813),\n",
       " (u'Lafayette St & E 8 St', 0.06271394847369095),\n",
       " (u'Stanton St & Chrystie St', 0.06262788942208038),\n",
       " (u'Mott St & Prince St', 0.06251587007798083),\n",
       " (u'Cleveland Pl & Spring St', 0.06227498839091143),\n",
       " (u'Broadway & E 22 St', 0.06223604933220615),\n",
       " (u'Broadway & E 14 St', 0.06213295813776062),\n",
       " (u'Great Jones St', 0.06186303672911103),\n",
       " (u'St Marks Pl & 2 Ave', 0.06170096135659063)]"
      ]
     },
     "execution_count": 33,
     "metadata": {},
     "output_type": "execute_result"
    }
   ],
   "source": [
    "eigs[:10]"
   ]
  },
  {
   "cell_type": "markdown",
   "metadata": {},
   "source": [
    "There is some overlap between this list and the degree centrality list, but there are stations that appear in this list that do not appear in the degree centrality list, and vice versa."
   ]
  },
  {
   "cell_type": "code",
   "execution_count": 34,
   "metadata": {},
   "outputs": [
    {
     "data": {
      "image/png": "[encoded data removed]",
      "text/plain": [
       "<matplotlib.figure.Figure at 0x13a8c3c8>"
      ]
     },
     "metadata": {},
     "output_type": "display_data"
    }
   ],
   "source": [
    "h=plot.hist(eig.values(),10)"
   ]
  },
  {
   "cell_type": "markdown",
   "metadata": {},
   "source": [
    "Categorical Group Comparison\n",
    "Looking at just degree centrality and eigenvector centrality compare these measures for the different values of the categorical variable.\n",
    "\n",
    "The categorical variable that will be used is user type. User type has two options: Customer and Subscriber.\n",
    "\n",
    "We'll split the edges into two graphs, all edges with attribute userType = 'Customer' (gS) and another where all edges have attribute userType = 'Subscriber' (gC)"
   ]
  },
  {
   "cell_type": "code",
   "execution_count": 35,
   "metadata": {
    "collapsed": true
   },
   "outputs": [],
   "source": [
    "#source: http://stackoverflow.com/questions/15644684/best-practices-for-querying-graphs-by-edge-and-node-attributes-in-networkx\n",
    "edgeC =((u,v) for u,v,d in g.edges_iter(data=True) if d['userType']=='Customer')\n",
    "edgeS =((u,v) for u,v,d in g.edges_iter(data=True) if d['userType']=='Subscriber')"
   ]
  },
  {
   "cell_type": "code",
   "execution_count": 36,
   "metadata": {
    "collapsed": true
   },
   "outputs": [],
   "source": [
    "gC = net.Graph()\n",
    "gS = net.Graph()"
   ]
  },
  {
   "cell_type": "code",
   "execution_count": 37,
   "metadata": {
    "collapsed": true
   },
   "outputs": [],
   "source": [
    "gC.add_edges_from(edgeS)\n",
    "gS.add_edges_from(edgeC)"
   ]
  },
  {
   "cell_type": "code",
   "execution_count": 38,
   "metadata": {},
   "outputs": [
    {
     "data": {
      "text/plain": [
       "62540"
      ]
     },
     "execution_count": 38,
     "metadata": {},
     "output_type": "execute_result"
    }
   ],
   "source": [
    "len(gC.edges())"
   ]
  },
  {
   "cell_type": "code",
   "execution_count": 39,
   "metadata": {},
   "outputs": [
    {
     "data": {
      "text/plain": [
       "5416"
      ]
     },
     "execution_count": 39,
     "metadata": {},
     "output_type": "execute_result"
    }
   ],
   "source": [
    "len(gS.edges())"
   ]
  },
  {
   "cell_type": "code",
   "execution_count": 40,
   "metadata": {},
   "outputs": [
    {
     "data": {
      "text/plain": [
       "67956"
      ]
     },
     "execution_count": 40,
     "metadata": {},
     "output_type": "execute_result"
    }
   ],
   "source": [
    "#original graph\n",
    "len(g.edges())"
   ]
  },
  {
   "cell_type": "markdown",
   "metadata": {},
   "source": [
    "There are far more customer edges than subscriber edges"
   ]
  },
  {
   "cell_type": "code",
   "execution_count": 41,
   "metadata": {},
   "outputs": [
    {
     "data": {
      "image/png": "[encoded data removed]",
      "text/plain": [
       "<matplotlib.figure.Figure at 0x80a5d68>"
      ]
     },
     "metadata": {},
     "output_type": "display_data"
    }
   ],
   "source": [
    "net.draw(gC)"
   ]
  },
  {
   "cell_type": "code",
   "execution_count": 42,
   "metadata": {},
   "outputs": [
    {
     "data": {
      "image/png": "[encoded data removed]",
      "text/plain": [
       "<matplotlib.figure.Figure at 0x1565f240>"
      ]
     },
     "metadata": {},
     "output_type": "display_data"
    }
   ],
   "source": [
    "net.draw(gS)"
   ]
  },
  {
   "cell_type": "code",
   "execution_count": 43,
   "metadata": {
    "collapsed": true
   },
   "outputs": [],
   "source": [
    "#Degree Centrality\n",
    "degC = net.degree(gC)\n",
    "degS = net.degree(gS)"
   ]
  },
  {
   "cell_type": "code",
   "execution_count": 44,
   "metadata": {
    "collapsed": true
   },
   "outputs": [],
   "source": [
    "dsC = sorted_map(degC)\n",
    "dsS = sorted_map(degS)"
   ]
  },
  {
   "cell_type": "code",
   "execution_count": 45,
   "metadata": {},
   "outputs": [
    {
     "data": {
      "text/plain": [
       "[(u'E 17 St & Broadway', 402),\n",
       " (u'Broadway & E 22 St', 400),\n",
       " (u'Lafayette St & Jersey St', 399),\n",
       " (u'Cleveland Pl & Spring St', 398),\n",
       " (u'Stanton St & Chrystie St', 396),\n",
       " (u'Lafayette St & E 8 St', 393),\n",
       " (u'Suffolk St & Stanton St', 393),\n",
       " (u'Mott St & Prince St', 392),\n",
       " (u'E 3 St & 1 Ave', 385),\n",
       " (u'Allen St & Rivington St', 384)]"
      ]
     },
     "execution_count": 45,
     "metadata": {},
     "output_type": "execute_result"
    }
   ],
   "source": [
    "dsC[0:10]"
   ]
  },
  {
   "cell_type": "code",
   "execution_count": 46,
   "metadata": {},
   "outputs": [
    {
     "data": {
      "text/plain": [
       "[(u'Old Fulton St', 104),\n",
       " (u'Centre St & Chambers St', 86),\n",
       " (u'Cadman Plaza E & Tillary St', 72),\n",
       " (u'Central Park S & 6 Ave', 69),\n",
       " (u'5 Ave & E 78 St', 66),\n",
       " (u'Cadman Plaza E & Red Cross Pl', 66),\n",
       " (u'Grand Army Plaza & Central Park S', 65),\n",
       " (u'Kent Ave & N 7 St', 61),\n",
       " (u'Pier 40 - Hudson River Park', 58),\n",
       " (u'W 14 St & The High Line', 58)]"
      ]
     },
     "execution_count": 46,
     "metadata": {},
     "output_type": "execute_result"
    }
   ],
   "source": [
    "dsS[0:10]"
   ]
  },
  {
   "cell_type": "code",
   "execution_count": 47,
   "metadata": {
    "collapsed": true
   },
   "outputs": [],
   "source": [
    "#The top 10 list for Customers vs Subscribers is very different"
   ]
  },
  {
   "cell_type": "code",
   "execution_count": 48,
   "metadata": {},
   "outputs": [
    {
     "data": {
      "image/png": "[encoded data removed]",
      "text/plain": [
       "<matplotlib.figure.Figure at 0x10c7f3c8>"
      ]
     },
     "metadata": {},
     "output_type": "display_data"
    }
   ],
   "source": [
    "(nC, bins, patches)=plot.hist(degC.values(),10)"
   ]
  },
  {
   "cell_type": "code",
   "execution_count": 49,
   "metadata": {},
   "outputs": [
    {
     "data": {
      "image/png": "[encoded data removed]",
      "text/plain": [
       "<matplotlib.figure.Figure at 0x10e90978>"
      ]
     },
     "metadata": {},
     "output_type": "display_data"
    }
   ],
   "source": [
    "(nS, bins, patches)=plot.hist(degS.values(),10)"
   ]
  },
  {
   "cell_type": "markdown",
   "metadata": {},
   "source": [
    "Testing is required to determine if these distributions are the same:\n",
    "\n",
    "To use a t-test both distributions must be approximately normal.\n",
    "\n",
    "Generate a QQ plot for each distribution to see if the distribution is approximately normal\n",
    "http://stackoverflow.com/questions/13865596/quantile-quantile-plot-using-scipy\n",
    "\n",
    "The independent t-test also assumes the variances of the two groups are equal in the population.  An F-test is required to check the variances."
   ]
  },
  {
   "cell_type": "code",
   "execution_count": 50,
   "metadata": {},
   "outputs": [
    {
     "data": {
      "image/png": "[encoded data removed]",
      "text/plain": [
       "<matplotlib.figure.Figure at 0xe5b3550>"
      ]
     },
     "metadata": {},
     "output_type": "display_data"
    }
   ],
   "source": [
    "import numpy as np \n",
    "import pylab \n",
    "import scipy.stats as stats\n",
    "\n",
    "stats.probplot(degC.values(), dist=\"norm\", plot=pylab)\n",
    "pylab.show()"
   ]
  },
  {
   "cell_type": "code",
   "execution_count": 51,
   "metadata": {},
   "outputs": [
    {
     "data": {
      "image/png": "[encoded data removed]",
      "text/plain": [
       "<matplotlib.figure.Figure at 0xe95c9b0>"
      ]
     },
     "metadata": {},
     "output_type": "display_data"
    }
   ],
   "source": [
    "stats.probplot(degS.values(), dist=\"norm\", plot=pylab)\n",
    "pylab.show()"
   ]
  },
  {
   "cell_type": "markdown",
   "metadata": {},
   "source": [
    "The distributions deviate at the tails, but we'll assume they are close enough to normal to use a t-test. \n",
    "\n",
    "The next step is to check the variances with an F-test."
   ]
  },
  {
   "cell_type": "code",
   "execution_count": 52,
   "metadata": {
    "collapsed": true
   },
   "outputs": [],
   "source": [
    "F = np.var(degC.values())/np.var(degS.values())"
   ]
  },
  {
   "cell_type": "code",
   "execution_count": 53,
   "metadata": {},
   "outputs": [
    {
     "data": {
      "text/plain": [
       "53.927261333491714"
      ]
     },
     "execution_count": 53,
     "metadata": {},
     "output_type": "execute_result"
    }
   ],
   "source": [
    "F"
   ]
  },
  {
   "cell_type": "code",
   "execution_count": 54,
   "metadata": {
    "collapsed": true
   },
   "outputs": [],
   "source": [
    "#Do an F-test with alpha = 0.05\n",
    "#get degrees of freedom\n",
    "dfC = len(degC.values()) - 1\n",
    "dfS = len(degS.values()) - 1"
   ]
  },
  {
   "cell_type": "code",
   "execution_count": 55,
   "metadata": {},
   "outputs": [
    {
     "data": {
      "text/plain": [
       "0.99999999999999989"
      ]
     },
     "execution_count": 55,
     "metadata": {},
     "output_type": "execute_result"
    }
   ],
   "source": [
    "p_value = stats.f.cdf(F, dfC, dfS)\n",
    "p_value"
   ]
  },
  {
   "cell_type": "markdown",
   "metadata": {},
   "source": [
    "We do not reject the null hypothesis that the variances are different, so we use a t-test to test if there is a statistically significant difference between the two distributions."
   ]
  },
  {
   "cell_type": "code",
   "execution_count": 71,
   "metadata": {},
   "outputs": [
    {
     "name": "stdout",
     "output_type": "stream",
     "text": [
      "p =  3.48728144928e-312\n",
      "significant\n"
     ]
    }
   ],
   "source": [
    "t,p = stats.ttest_ind(degC.values(), degS.values())\n",
    "print 'p = ',p\n",
    "if p < 0.05:\n",
    "    print 'significant'\n",
    "else:\n",
    "    print 'not significant'"
   ]
  },
  {
   "cell_type": "markdown",
   "metadata": {},
   "source": [
    "There is a statistically significant difference between the Customer and Subscriber distributions of degree centrality."
   ]
  },
  {
   "cell_type": "markdown",
   "metadata": {},
   "source": [
    "Compute eigenvector centrality for customers and subscribers"
   ]
  },
  {
   "cell_type": "code",
   "execution_count": 57,
   "metadata": {
    "collapsed": true
   },
   "outputs": [],
   "source": [
    "eC = net.Graph(gC)\n",
    "eS = net.Graph(gS)"
   ]
  },
  {
   "cell_type": "code",
   "execution_count": 58,
   "metadata": {
    "collapsed": true
   },
   "outputs": [],
   "source": [
    "eigC = net.eigenvector_centrality(eC)\n",
    "eigS = net.eigenvector_centrality(eS)"
   ]
  },
  {
   "cell_type": "code",
   "execution_count": 59,
   "metadata": {
    "collapsed": true
   },
   "outputs": [],
   "source": [
    "eigCs = sorted_map(eigC)\n",
    "eigSs = sorted_map(eigS)"
   ]
  },
  {
   "cell_type": "code",
   "execution_count": 60,
   "metadata": {},
   "outputs": [
    {
     "data": {
      "text/plain": [
       "[(u'Broadway & E 22 St', 0.06519763643940488),\n",
       " (u'E 17 St & Broadway', 0.06423052112698686),\n",
       " (u'Lafayette St & E 8 St', 0.06383075736364696),\n",
       " (u'Lafayette St & Jersey St', 0.06342385582348613),\n",
       " (u'E 3 St & 1 Ave', 0.06336722201058506),\n",
       " (u'Cleveland Pl & Spring St', 0.0633094849126868),\n",
       " (u'W 21 St & 6 Ave', 0.06327133737219524),\n",
       " (u'Pershing Square North', 0.0631689468948299),\n",
       " (u'Stanton St & Chrystie St', 0.06303957372120764),\n",
       " (u'Great Jones St', 0.06277142453906191)]"
      ]
     },
     "execution_count": 60,
     "metadata": {},
     "output_type": "execute_result"
    }
   ],
   "source": [
    "eigCs[:10]"
   ]
  },
  {
   "cell_type": "code",
   "execution_count": 61,
   "metadata": {},
   "outputs": [
    {
     "data": {
      "text/plain": [
       "[(u'Old Fulton St', 0.1936333159695337),\n",
       " (u'Centre St & Chambers St', 0.16072611267728404),\n",
       " (u'Cadman Plaza E & Tillary St', 0.14478010129855576),\n",
       " (u'Cadman Plaza E & Red Cross Pl', 0.1316321396009717),\n",
       " (u'Central Park S & 6 Ave', 0.12188488180160598),\n",
       " (u'Peck Slip & Front St', 0.12104219122762537),\n",
       " (u'Pier 40 - Hudson River Park', 0.11357752848066939),\n",
       " (u'W 14 St & The High Line', 0.11250785423506364),\n",
       " (u'5 Ave & E 78 St', 0.10942910653937857),\n",
       " (u'Centre St & Worth St', 0.1078760919618757)]"
      ]
     },
     "execution_count": 61,
     "metadata": {},
     "output_type": "execute_result"
    }
   ],
   "source": [
    "eigSs[:10]"
   ]
  },
  {
   "cell_type": "markdown",
   "metadata": {},
   "source": [
    "The top 10 list is very different for Customers and Subscribers"
   ]
  },
  {
   "cell_type": "code",
   "execution_count": 62,
   "metadata": {},
   "outputs": [
    {
     "data": {
      "image/png": "[encoded data removed]",
      "text/plain": [
       "<matplotlib.figure.Figure at 0xd0fac50>"
      ]
     },
     "metadata": {},
     "output_type": "display_data"
    }
   ],
   "source": [
    "h=plot.hist(eigC.values(),10)"
   ]
  },
  {
   "cell_type": "code",
   "execution_count": 63,
   "metadata": {},
   "outputs": [
    {
     "data": {
      "image/png": "[encoded data removed]",
      "text/plain": [
       "<matplotlib.figure.Figure at 0x10ea8a58>"
      ]
     },
     "metadata": {},
     "output_type": "display_data"
    }
   ],
   "source": [
    "h=plot.hist(eigS.values(),10)"
   ]
  },
  {
   "cell_type": "markdown",
   "metadata": {},
   "source": [
    "Check for normality and variance"
   ]
  },
  {
   "cell_type": "code",
   "execution_count": 64,
   "metadata": {},
   "outputs": [
    {
     "data": {
      "image/png": "[encoded data removed]",
      "text/plain": [
       "<matplotlib.figure.Figure at 0x10e65748>"
      ]
     },
     "metadata": {},
     "output_type": "display_data"
    }
   ],
   "source": [
    "stats.probplot(eigC.values(), dist=\"norm\", plot=pylab)\n",
    "pylab.show()"
   ]
  },
  {
   "cell_type": "code",
   "execution_count": 65,
   "metadata": {},
   "outputs": [
    {
     "data": {
      "image/png": "[encoded data removed]",
      "text/plain": [
       "<matplotlib.figure.Figure at 0x151fa630>"
      ]
     },
     "metadata": {},
     "output_type": "display_data"
    }
   ],
   "source": [
    "stats.probplot(eigC.values(), dist=\"norm\", plot=pylab)\n",
    "pylab.show()"
   ]
  },
  {
   "cell_type": "markdown",
   "metadata": {},
   "source": [
    "The curves deviate a lot from normal, based on the QQ plot, so we will use a KS test instead to test if the two samples are likely to have come from the same distribution."
   ]
  },
  {
   "cell_type": "code",
   "execution_count": 72,
   "metadata": {},
   "outputs": [
    {
     "name": "stdout",
     "output_type": "stream",
     "text": [
      "p =  3.97738629564e-15\n",
      "significant\n"
     ]
    }
   ],
   "source": [
    "#stats.ks_2samp(eigC.values(), eigS.values())\n",
    "t,p = stats.ks_2samp(eigC.values(), eigS.values())\n",
    "print 'p = ',p\n",
    "if p < 0.05:\n",
    "    print 'significant'\n",
    "else:\n",
    "    print 'not significant'"
   ]
  },
  {
   "cell_type": "markdown",
   "metadata": {},
   "source": [
    "There is a statistically significant difference between the distributions of Customer and Subscriber eigenvalue centrality."
   ]
  }
 ],
 "metadata": {
  "anaconda-cloud": {},
  "kernelspec": {
   "display_name": "Python [conda root]",
   "language": "python",
   "name": "conda-root-py"
  },
  "language_info": {
   "codemirror_mode": {
    "name": "ipython",
    "version": 2
   },
   "file_extension": ".py",
   "mimetype": "text/x-python",
   "name": "python",
   "nbconvert_exporter": "python",
   "pygments_lexer": "ipython2",
   "version": "2.7.14"
  }
 },
 "nbformat": 4,
 "nbformat_minor": 1
}
